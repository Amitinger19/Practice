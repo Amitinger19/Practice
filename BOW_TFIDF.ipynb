{
 "cells": [
  {
   "cell_type": "code",
   "execution_count": 12,
   "metadata": {},
   "outputs": [],
   "source": [
    "import numpy as np\n",
    "import pandas as pd"
   ]
  },
  {
   "cell_type": "code",
   "execution_count": 87,
   "metadata": {},
   "outputs": [
    {
     "name": "stdout",
     "output_type": "stream",
     "text": [
      "this is the first document\n",
      "this document is the second document\n",
      "and this is the third one\n",
      "is this the first document\n"
     ]
    }
   ],
   "source": [
    "corpus = [\n",
    "'this is the first document',\n",
    "'this document is the second document',\n",
    "'and this is the third one',\n",
    "'is this the first document',\n",
    "]\n",
    "\n",
    "for doc in corpus:\n",
    "    print(doc)"
   ]
  },
  {
   "cell_type": "markdown",
   "metadata": {},
   "source": [
    "# Creating a list of all the words in corpus then making the ord vector."
   ]
  },
  {
   "cell_type": "code",
   "execution_count": 86,
   "metadata": {},
   "outputs": [
    {
     "name": "stdout",
     "output_type": "stream",
     "text": [
      "The list of all words used in the corpus: \n",
      " ************************************************************************************************************************ \n",
      " ['this', 'is', 'the', 'first', 'document', 'this', 'document', 'is', 'the', 'second', 'document', 'and', 'this', 'is', 'the', 'third', 'one', 'is', 'this', 'the', 'first', 'document'] \n",
      " ************************************************************************************************************************\n",
      "\n",
      "The word vector: \n",
      " ******************************************************************************** \n",
      " ['is', 'first', 'and', 'this', 'document', 'the', 'third', 'second', 'one'] \n",
      " ********************************************************************************\n"
     ]
    }
   ],
   "source": [
    "word_list=[]\n",
    "for doc in corpus:\n",
    "    for each_word in doc.split(' '):\n",
    "       word_list.append(each_word)\n",
    "print('The list of all words used in the corpus: \\n','*'*120,'\\n',word_list,'\\n','*'*120)\n",
    "\n",
    "## making vocabulary out of this separate words\n",
    "\n",
    "voc=list(set(word_list))\n",
    "voc\n",
    "len(voc)\n",
    "print('\\nThe word vector: \\n','*'*80,'\\n',voc,'\\n','*'*80)"
   ]
  },
  {
   "cell_type": "markdown",
   "metadata": {},
   "source": [
    "# Comparing the vectorized vocabulary from my and sklearn code"
   ]
  },
  {
   "cell_type": "code",
   "execution_count": 76,
   "metadata": {},
   "outputs": [
    {
     "name": "stdout",
     "output_type": "stream",
     "text": [
      "Own implementation: \n",
      " ************************************************** \n",
      " [[0 1 1 1 0 0 1 0 1]\n",
      " [0 2 0 1 0 1 1 0 1]\n",
      " [1 0 0 1 1 0 1 1 1]\n",
      " [0 1 1 1 0 0 1 0 1]]\n",
      "\n",
      "vector from sklearn:\n",
      " ************************************************** \n",
      " [[0 1 1 1 0 0 1 0 1]\n",
      " [0 2 0 1 0 1 1 0 1]\n",
      " [1 0 0 1 1 0 1 1 1]\n",
      " [0 1 1 1 0 0 1 0 1]]\n",
      "\n",
      "features by sklearn: \n",
      " ************************************************** \n",
      " ['and', 'document', 'first', 'is', 'one', 'second', 'the', 'third', 'this']\n",
      "\n",
      "features by own implementaion: \n",
      " ************************************************** \n",
      " ['and', 'document', 'first', 'is', 'one', 'second', 'the', 'third', 'this']\n"
     ]
    }
   ],
   "source": [
    "vector=[0,0,0,0,0,0,0,0,0]\n",
    "vector_list=[]\n",
    "count=0\n",
    "for each_doc in corpus:\n",
    "    for i in voc:\n",
    "        #print(each_doc)\n",
    "        for word in each_doc.split(' '):\n",
    "            if i==word:\n",
    "                count+=1\n",
    "        #print(count)\n",
    "        vector[voc.index(i)]=count\n",
    "        count=0    \n",
    "    vector_list.append(vector) \n",
    "    vector=[0,0,0,0,0,0,0,0,0]\n",
    "print('Own implementation: \\n','*'*50,'\\n',np.array(vector_list))  \n",
    "\n",
    "from sklearn.feature_extraction.text import CountVectorizer\n",
    "vec=CountVectorizer()\n",
    "vec_sklearn=vec.fit_transform(corpus).toarray()\n",
    "print('\\nvector from sklearn:\\n', '*'*50,'\\n',vec_sklearn)\n",
    "vec2=CountVectorizer( analyzer='word')\n",
    "print('\\nfeatures by sklearn: \\n','*'*50,'\\n',vec.get_feature_names())\n",
    "print('\\nfeatures by own implementaion: \\n','*'*50,'\\n',voc)"
   ]
  }
 ],
 "metadata": {
  "kernelspec": {
   "display_name": "Python 3",
   "language": "python",
   "name": "python3"
  },
  "language_info": {
   "codemirror_mode": {
    "name": "ipython",
    "version": 3
   },
   "file_extension": ".py",
   "mimetype": "text/x-python",
   "name": "python",
   "nbconvert_exporter": "python",
   "pygments_lexer": "ipython3",
   "version": "3.7.6"
  }
 },
 "nbformat": 4,
 "nbformat_minor": 4
}
